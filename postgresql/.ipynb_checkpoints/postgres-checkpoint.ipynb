{
 "cells": [
  {
   "cell_type": "code",
   "execution_count": 35,
   "id": "78bff522-4fc4-4cb6-8863-45357cf61e84",
   "metadata": {},
   "outputs": [],
   "source": [
    "import psycopg2"
   ]
  },
  {
   "cell_type": "markdown",
   "id": "e5cfd083-8304-4be3-9071-c6d183caebb7",
   "metadata": {},
   "source": [
    "First we create a connection session object."
   ]
  },
  {
   "cell_type": "code",
   "execution_count": 36,
   "id": "ac6a0105-b506-4cae-9797-2b3ea6bfe9bf",
   "metadata": {},
   "outputs": [],
   "source": [
    "conn = psycopg2.connect(\n",
    "    host=\"localhost\",\n",
    "    port=5432,\n",
    "    database=\"mydb\",\n",
    "    user=\"root\",\n",
    "    password=\"1234\"\n",
    ")"
   ]
  },
  {
   "cell_type": "markdown",
   "id": "c1c7d5e6-a7ea-4176-a443-b05c48e09b44",
   "metadata": {},
   "source": [
    "A cursor in Python database libraries (like psycopg2 for PostgreSQL) is essentially a handle to perform queries and fetch results.  \n",
    "Think of it as a “pointer” to a position in the database results."
   ]
  },
  {
   "cell_type": "code",
   "execution_count": null,
   "id": "041a3b73-efaf-4023-a12e-a47f6e796b4d",
   "metadata": {},
   "outputs": [],
   "source": []
  }
 ],
 "metadata": {
  "kernelspec": {
   "display_name": "Python postgres",
   "language": "python",
   "name": "postgresenv"
  },
  "language_info": {
   "codemirror_mode": {
    "name": "ipython",
    "version": 3
   },
   "file_extension": ".py",
   "mimetype": "text/x-python",
   "name": "python",
   "nbconvert_exporter": "python",
   "pygments_lexer": "ipython3",
   "version": "3.13.0"
  }
 },
 "nbformat": 4,
 "nbformat_minor": 5
}
