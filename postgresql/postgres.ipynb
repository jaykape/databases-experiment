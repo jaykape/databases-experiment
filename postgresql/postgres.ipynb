{
 "cells": [
  {
   "cell_type": "code",
   "execution_count": 35,
   "id": "78bff522-4fc4-4cb6-8863-45357cf61e84",
   "metadata": {},
   "outputs": [],
   "source": [
    "import psycopg2"
   ]
  },
  {
   "cell_type": "markdown",
   "id": "e5cfd083-8304-4be3-9071-c6d183caebb7",
   "metadata": {},
   "source": [
    "First we create a connection session object."
   ]
  },
  {
   "cell_type": "code",
   "execution_count": 36,
   "id": "ac6a0105-b506-4cae-9797-2b3ea6bfe9bf",
   "metadata": {},
   "outputs": [],
   "source": [
    "conn = psycopg2.connect(\n",
    "    host=\"localhost\",\n",
    "    port=5432,\n",
    "    database=\"mydb\",\n",
    "    user=\"root\",\n",
    "    password=\"1234\"\n",
    ")"
   ]
  },
  {
   "cell_type": "code",
   "execution_count": 37,
   "id": "041a3b73-efaf-4023-a12e-a47f6e796b4d",
   "metadata": {},
   "outputs": [],
   "source": [
    "import pandas as pd"
   ]
  },
  {
   "cell_type": "code",
   "execution_count": 38,
   "id": "367de8fb-1309-4a7d-98ff-a47622563b47",
   "metadata": {},
   "outputs": [],
   "source": [
    "df = pd.read_csv(\"people-100000.csv\")"
   ]
  },
  {
   "cell_type": "code",
   "execution_count": 39,
   "id": "59683be0-b7d5-4769-b5af-0f9658c8d746",
   "metadata": {},
   "outputs": [
    {
     "data": {
      "text/html": [
       "<div>\n",
       "<style scoped>\n",
       "    .dataframe tbody tr th:only-of-type {\n",
       "        vertical-align: middle;\n",
       "    }\n",
       "\n",
       "    .dataframe tbody tr th {\n",
       "        vertical-align: top;\n",
       "    }\n",
       "\n",
       "    .dataframe thead th {\n",
       "        text-align: right;\n",
       "    }\n",
       "</style>\n",
       "<table border=\"1\" class=\"dataframe\">\n",
       "  <thead>\n",
       "    <tr style=\"text-align: right;\">\n",
       "      <th></th>\n",
       "      <th>Index</th>\n",
       "      <th>User Id</th>\n",
       "      <th>First Name</th>\n",
       "      <th>Last Name</th>\n",
       "      <th>Sex</th>\n",
       "      <th>Email</th>\n",
       "      <th>Phone</th>\n",
       "      <th>Date of birth</th>\n",
       "      <th>Job Title</th>\n",
       "    </tr>\n",
       "  </thead>\n",
       "  <tbody>\n",
       "    <tr>\n",
       "      <th>0</th>\n",
       "      <td>1</td>\n",
       "      <td>e09c4f4cbfEFaFd</td>\n",
       "      <td>Dawn</td>\n",
       "      <td>Trevino</td>\n",
       "      <td>Male</td>\n",
       "      <td>clintongood@example.org</td>\n",
       "      <td>360-423-5286</td>\n",
       "      <td>1972-01-17</td>\n",
       "      <td>Teacher, primary school</td>\n",
       "    </tr>\n",
       "    <tr>\n",
       "      <th>1</th>\n",
       "      <td>2</td>\n",
       "      <td>D781D28b845Ab9D</td>\n",
       "      <td>Dale</td>\n",
       "      <td>Mcknight</td>\n",
       "      <td>Male</td>\n",
       "      <td>clairebradshaw@example.org</td>\n",
       "      <td>9062423229</td>\n",
       "      <td>1931-01-31</td>\n",
       "      <td>Development worker, community</td>\n",
       "    </tr>\n",
       "    <tr>\n",
       "      <th>2</th>\n",
       "      <td>3</td>\n",
       "      <td>eda7EcaF87b2D80</td>\n",
       "      <td>Herbert</td>\n",
       "      <td>Bean</td>\n",
       "      <td>Female</td>\n",
       "      <td>johnnybooker@example.org</td>\n",
       "      <td>001-149-154-0679x1617</td>\n",
       "      <td>2018-02-10</td>\n",
       "      <td>Ceramics designer</td>\n",
       "    </tr>\n",
       "    <tr>\n",
       "      <th>3</th>\n",
       "      <td>4</td>\n",
       "      <td>E75ACea5D7AeC3e</td>\n",
       "      <td>Karen</td>\n",
       "      <td>Everett</td>\n",
       "      <td>Female</td>\n",
       "      <td>wkhan@example.org</td>\n",
       "      <td>870.294.7563x20939</td>\n",
       "      <td>1938-06-14</td>\n",
       "      <td>Civil engineer, consulting</td>\n",
       "    </tr>\n",
       "    <tr>\n",
       "      <th>4</th>\n",
       "      <td>5</td>\n",
       "      <td>9C4Df1246ddf543</td>\n",
       "      <td>Angela</td>\n",
       "      <td>Shea</td>\n",
       "      <td>Male</td>\n",
       "      <td>reginaldgarner@example.com</td>\n",
       "      <td>242.442.2978</td>\n",
       "      <td>1971-11-22</td>\n",
       "      <td>Health and safety adviser</td>\n",
       "    </tr>\n",
       "  </tbody>\n",
       "</table>\n",
       "</div>"
      ],
      "text/plain": [
       "   Index          User Id First Name Last Name     Sex  \\\n",
       "0      1  e09c4f4cbfEFaFd       Dawn   Trevino    Male   \n",
       "1      2  D781D28b845Ab9D       Dale  Mcknight    Male   \n",
       "2      3  eda7EcaF87b2D80    Herbert      Bean  Female   \n",
       "3      4  E75ACea5D7AeC3e      Karen   Everett  Female   \n",
       "4      5  9C4Df1246ddf543     Angela      Shea    Male   \n",
       "\n",
       "                        Email                  Phone Date of birth  \\\n",
       "0     clintongood@example.org           360-423-5286    1972-01-17   \n",
       "1  clairebradshaw@example.org             9062423229    1931-01-31   \n",
       "2    johnnybooker@example.org  001-149-154-0679x1617    2018-02-10   \n",
       "3           wkhan@example.org     870.294.7563x20939    1938-06-14   \n",
       "4  reginaldgarner@example.com           242.442.2978    1971-11-22   \n",
       "\n",
       "                       Job Title  \n",
       "0        Teacher, primary school  \n",
       "1  Development worker, community  \n",
       "2              Ceramics designer  \n",
       "3     Civil engineer, consulting  \n",
       "4      Health and safety adviser  "
      ]
     },
     "execution_count": 39,
     "metadata": {},
     "output_type": "execute_result"
    }
   ],
   "source": [
    "df.head()"
   ]
  },
  {
   "cell_type": "markdown",
   "id": "75118147-be45-40f2-86f7-83e8ad74020d",
   "metadata": {},
   "source": [
    "A cursor in Python database libraries (like psycopg2 for PostgreSQL) is essentially a handle to perform queries and fetch results.  \n",
    "Think of it as a “pointer” to a position in the database results."
   ]
  },
  {
   "cell_type": "code",
   "execution_count": null,
   "id": "6e6dae09-6125-4dfa-9d95-6790cccfd758",
   "metadata": {},
   "outputs": [],
   "source": [
    "cur = conn.cursor()\n",
    "\n",
    "cur.execute(\"\"\"\n",
    "    CREATE TABLE IF NOT EXISTS people (\n",
    "        id SERIAL PRIMARY KEY,\n",
    "        first_name TEXT,\n",
    "        last_name TEXT,\n",
    "        sex TEXT,\n",
    "        email TEXT\n",
    "    )\n",
    "\"\"\")\n",
    "\n",
    "records = df[[\"name\", \"age\", \"email\"]].to_records(index=False)\n",
    "records_list = list(records)\n",
    "\n",
    "\n",
    "insert_query = \"\"\"\n",
    "    INSERT INTO people (name, age, email)\n",
    "    VALUES %s\n",
    "\"\"\"\n",
    "execute_values(cur, insert_query, records_list)\n",
    "\n",
    "\n",
    "conn.commit()\n",
    "cur.close()\n",
    "conn.close()"
   ]
  }
 ],
 "metadata": {
  "kernelspec": {
   "display_name": "Python postgres",
   "language": "python",
   "name": "postgresenv"
  },
  "language_info": {
   "codemirror_mode": {
    "name": "ipython",
    "version": 3
   },
   "file_extension": ".py",
   "mimetype": "text/x-python",
   "name": "python",
   "nbconvert_exporter": "python",
   "pygments_lexer": "ipython3",
   "version": "3.13.0"
  }
 },
 "nbformat": 4,
 "nbformat_minor": 5
}
